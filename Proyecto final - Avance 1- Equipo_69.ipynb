{
  "nbformat": 4,
  "nbformat_minor": 0,
  "metadata": {
    "colab": {
      "name": "Proyecto final - Avance 1- Equipo_69.ipynb",
      "provenance": [],
      "include_colab_link": true
    },
    "kernelspec": {
      "name": "python3",
      "display_name": "Python 3"
    },
    "language_info": {
      "name": "python"
    }
  },
  "cells": [
    {
      "cell_type": "markdown",
      "metadata": {
        "id": "view-in-github",
        "colab_type": "text"
      },
      "source": [
        "<a href=\"https://colab.research.google.com/github/PosgradoMNA/actividades-del-projecto-equipo_69/blob/main/Proyecto%20final%20-%20Avance%201-%20Equipo_69.ipynb\" target=\"_parent\"><img src=\"https://colab.research.google.com/assets/colab-badge.svg\" alt=\"Open In Colab\"/></a>"
      ]
    },
    {
      "cell_type": "markdown",
      "source": [
        "\n",
        "# Proyecto final - Avance 1  -   **EQUIPO 69**\n",
        "\n",
        "## \"Incidentes viales reportados por C5\"\n",
        "\n",
        "**Centro de Comando, Control, Cómputo, Comunicaciones y Contacto Ciudadano de la CDMX (C5)**\n",
        "\n",
        ".\n",
        "\n",
        "Conjunto de datos con los incidentes viales reportados y registrados por el Centro de Comando, Control, Cómputo, Comunicaciones y Contacto Ciudadano de la Ciudad de México (C5) desde 2014 y actualizado mensualmente.\n",
        "\n",
        "*Fuente: https://archivo.datos.cdmx.gob.mx/in_viales/inViales_2022_jul.csv*\n",
        "\n",
        "\n",
        ".\n",
        "\n",
        "\n",
        "**En este conjunto se reporta:** \n",
        "\n",
        "*   Folio.\n",
        "*   Fecha de creación del reporte.\n",
        "*   Hora de creación del reporte. \n",
        "*   Día de la semana de creación del reporte.\n",
        "*   Fecha de cierre de reporte.\n",
        "*   Hora de cierre de reporte.\n",
        "*   Motivo del incidente dependiendo del tipo de emergencia.\n",
        "*   Alcaldía donde sucedió el incidente.\n",
        "*   Latitud y longitud del incidente.\n",
        "*   Código de cierre del incidente reportado.\n",
        "*   Clasificación del incidente.\n",
        "*   Origen del incidente por tipo.\n",
        "*   Alcaldía en que se dio resolución al incidente o emergencia.\n",
        "\n",
        "**Preguntas de Investigacion:**\n",
        "\n",
        "*   ¿Qué alcaldía tiene mayor incidencia?\n",
        "*   ¿Cuántos reportes falsos son creados que dinero representa?\n",
        "*   ¿Existe algún problema de diseño vial?\n",
        "*   ¿Cuáles son las áreas donde mas accidentes de auto? \n",
        "*   ¿Cuál es el tiempo de reacción de los servicios de emergencia?\n",
        "*   ¿Cuáles son las rutas donde atropellan más personas?\n",
        "*   ¿Cuél es la ruta más segura para transitar con moto?\n",
        "*   ¿En qué hospital se necesita colocar un servicio de traumatología más grande?\n",
        "\n",
        ".\n",
        "\n",
        "La información que se puede analizar en función a una estrategia estadística puede beneficiar a los ciudadanos de la CDMX, sin embargo tambien puede ayudar al gobierno de la ciudad a entender las oportunidades que se tienen en el diseño vial de las calles o intersecciones."
      ],
      "metadata": {
        "id": "jPfhs4fVpu-R"
      }
    },
    {
      "cell_type": "code",
      "source": [],
      "metadata": {
        "id": "ELiVEnCh3MVT"
      },
      "execution_count": null,
      "outputs": []
    }
  ]
}