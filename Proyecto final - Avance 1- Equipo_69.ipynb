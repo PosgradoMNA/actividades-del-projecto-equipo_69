{
  "nbformat": 4,
  "nbformat_minor": 0,
  "metadata": {
    "colab": {
      "name": "Proyecto final - Avance 1- Equipo_69.ipynb",
      "provenance": [],
      "include_colab_link": true
    },
    "kernelspec": {
      "name": "python3",
      "display_name": "Python 3"
    },
    "language_info": {
      "name": "python"
    }
  },
  "cells": [
    {
      "cell_type": "markdown",
      "metadata": {
        "id": "view-in-github",
        "colab_type": "text"
      },
      "source": [
        "<a href=\"https://colab.research.google.com/github/PosgradoMNA/actividades-del-projecto-equipo_69/blob/main/Proyecto%20final%20-%20Avance%201-%20Equipo_69.ipynb\" target=\"_parent\"><img src=\"https://colab.research.google.com/assets/colab-badge.svg\" alt=\"Open In Colab\"/></a>"
      ]
    },
    {
      "cell_type": "markdown",
      "source": [
        "Proyecto final - Avance 1  \n",
        "**EQUIPO 69**\n",
        "\n",
        "# > *Incidentes viales reportados por C5*\n",
        "**Centro de Comando, Control, Cómputo, Comunicaciones y Contacto Ciudadano de la CDMX (C5)**\n",
        "\n",
        "Conjunto de datos con los incidentes viales reportados y registrados por el Centro de Comando, Control, Cómputo, Comunicaciones y Contacto Ciudadano de la Ciudad de México (C5) desde 2014 y actualizado mensualmente.\n",
        "\n",
        "Fuente: https://archivo.datos.cdmx.gob.mx/in_viales/inViales_2022_jul.csv\n",
        "\n",
        "En este conjunto se reporta: \n",
        "\n",
        "    folio\n",
        "    fecha de creación del reporte\n",
        "    hora de creación del reporte \n",
        "    día de la semana de creación del reporte\n",
        "    fecha de cierre de reporte\n",
        "    hora de cierre de reporte\n",
        "    motivo del incidente dependiendo del tipo de emergencia\n",
        "    alcaldía donde sucedió el incidente\n",
        "    latitud y longitud del incidente\n",
        "    código de cierre del incidente reportado\n",
        "    clasificación del incidente\n",
        "    origen del incidente por tipo \n",
        "    alcaldía en que se dio resolución al incidente o emergencia\n",
        "\n",
        "Preguntas de Investigacion:\n",
        "\n",
        "1.   Elemento de la lista\n",
        "2.   Elemento de la lista\n",
        "\n",
        "\n",
        "\n",
        "\n",
        "\n",
        "¿Cuáles son algunas de las preguntas de investigación que podría responder con estos datos? Enumere al menos OCHO (no responda las preguntas).\n",
        "¿Qué actor (empresa, sector de la sociedad, organismo descentralizado, gobierno, etc.) estaría interesado en las preguntas mencionadas que identificó?"
      ],
      "metadata": {
        "id": "jPfhs4fVpu-R"
      }
    }
  ]
}