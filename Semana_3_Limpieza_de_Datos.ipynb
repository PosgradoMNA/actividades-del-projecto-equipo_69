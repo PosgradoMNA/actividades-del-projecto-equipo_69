{
  "nbformat": 4,
  "nbformat_minor": 0,
  "metadata": {
    "colab": {
      "provenance": [],
      "collapsed_sections": [],
      "authorship_tag": "ABX9TyML2DyywPfW4sYd5vB/80E2",
      "include_colab_link": true
    },
    "kernelspec": {
      "name": "python3",
      "display_name": "Python 3"
    },
    "language_info": {
      "name": "python"
    }
  },
  "cells": [
    {
      "cell_type": "markdown",
      "metadata": {
        "id": "view-in-github",
        "colab_type": "text"
      },
      "source": [
        "<a href=\"https://colab.research.google.com/github/PosgradoMNA/actividades-del-projecto-equipo_69/blob/main/Semana_3_Limpieza_de_Datos.ipynb\" target=\"_parent\"><img src=\"https://colab.research.google.com/assets/colab-badge.svg\" alt=\"Open In Colab\"/></a>"
      ]
    },
    {
      "cell_type": "markdown",
      "source": [
        "#Limpieza de datos"
      ],
      "metadata": {
        "id": "LyYyKI6Skwvr"
      }
    },
    {
      "cell_type": "markdown",
      "source": [
        "\n",
        "La limpieza de datos implica observar más de cerca los problemas en los datos que ha seleccionado incluir en el análisis."
      ],
      "metadata": {
        "id": "5WSDgmgZkt4X"
      }
    },
    {
      "cell_type": "markdown",
      "source": [
        "## Problema de datos"
      ],
      "metadata": {
        "id": "Ryc2I_Wlk0eh"
      }
    },
    {
      "cell_type": "code",
      "execution_count": null,
      "metadata": {
        "id": "WCSgOKHYkqcO"
      },
      "outputs": [],
      "source": []
    }
  ]
}